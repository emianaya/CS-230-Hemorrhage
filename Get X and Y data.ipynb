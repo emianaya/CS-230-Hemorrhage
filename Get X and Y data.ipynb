{
 "cells": [
  {
   "cell_type": "markdown",
   "metadata": {},
   "source": [
    "# Goal: Implement a Logistic Regression on Hemorrhage Data"
   ]
  },
  {
   "cell_type": "code",
   "execution_count": 276,
   "metadata": {},
   "outputs": [],
   "source": [
    "#Import Modules\n",
    "import numpy as np\n",
    "import os\n",
    "import pydicom\n",
    "import cv2\n",
    "import matplotlib.pyplot as plt\n",
    "import csv\n",
    "import pandas as pd\n",
    "from os.path import isfile, join\n",
    "from sklearn.model_selection import train_test_split\n",
    "\n"
   ]
  },
  {
   "cell_type": "code",
   "execution_count": 277,
   "metadata": {},
   "outputs": [],
   "source": [
    "#Import all of the labeling data into a Pandas Dataframe\n",
    "train = pd.read_csv(\"H:/CS230_Project/CS-230-Hemorrhage/rsna-intracranial-hemorrhage-detection/stage_1_train.csv\")"
   ]
  },
  {
   "cell_type": "code",
   "execution_count": 278,
   "metadata": {},
   "outputs": [
    {
     "data": {
      "text/html": [
       "<div>\n",
       "<style scoped>\n",
       "    .dataframe tbody tr th:only-of-type {\n",
       "        vertical-align: middle;\n",
       "    }\n",
       "\n",
       "    .dataframe tbody tr th {\n",
       "        vertical-align: top;\n",
       "    }\n",
       "\n",
       "    .dataframe thead th {\n",
       "        text-align: right;\n",
       "    }\n",
       "</style>\n",
       "<table border=\"1\" class=\"dataframe\">\n",
       "  <thead>\n",
       "    <tr style=\"text-align: right;\">\n",
       "      <th></th>\n",
       "      <th>ID</th>\n",
       "      <th>Label</th>\n",
       "    </tr>\n",
       "  </thead>\n",
       "  <tbody>\n",
       "    <tr>\n",
       "      <th>0</th>\n",
       "      <td>ID_63eb1e259_epidural</td>\n",
       "      <td>0</td>\n",
       "    </tr>\n",
       "    <tr>\n",
       "      <th>1</th>\n",
       "      <td>ID_63eb1e259_intraparenchymal</td>\n",
       "      <td>0</td>\n",
       "    </tr>\n",
       "    <tr>\n",
       "      <th>2</th>\n",
       "      <td>ID_63eb1e259_intraventricular</td>\n",
       "      <td>0</td>\n",
       "    </tr>\n",
       "    <tr>\n",
       "      <th>3</th>\n",
       "      <td>ID_63eb1e259_subarachnoid</td>\n",
       "      <td>0</td>\n",
       "    </tr>\n",
       "    <tr>\n",
       "      <th>4</th>\n",
       "      <td>ID_63eb1e259_subdural</td>\n",
       "      <td>0</td>\n",
       "    </tr>\n",
       "    <tr>\n",
       "      <th>5</th>\n",
       "      <td>ID_63eb1e259_any</td>\n",
       "      <td>0</td>\n",
       "    </tr>\n",
       "  </tbody>\n",
       "</table>\n",
       "</div>"
      ],
      "text/plain": [
       "                              ID  Label\n",
       "0          ID_63eb1e259_epidural      0\n",
       "1  ID_63eb1e259_intraparenchymal      0\n",
       "2  ID_63eb1e259_intraventricular      0\n",
       "3      ID_63eb1e259_subarachnoid      0\n",
       "4          ID_63eb1e259_subdural      0\n",
       "5               ID_63eb1e259_any      0"
      ]
     },
     "execution_count": 278,
     "metadata": {},
     "output_type": "execute_result"
    }
   ],
   "source": [
    "#Check to make sure the data was imported correctly\n",
    "train.head(6)"
   ]
  },
  {
   "cell_type": "code",
   "execution_count": 279,
   "metadata": {},
   "outputs": [
    {
     "data": {
      "text/plain": [
       "674262"
      ]
     },
     "execution_count": 279,
     "metadata": {},
     "output_type": "execute_result"
    }
   ],
   "source": [
    "#Since each of our images has 6 labels, this should give us the number of images\n",
    "int(train.shape[0]/6)"
   ]
  },
  {
   "cell_type": "code",
   "execution_count": 280,
   "metadata": {},
   "outputs": [],
   "source": [
    "#This Function takes in an image ID and it returns the flattened pixel data \n",
    "def open_image(image_ID):\n",
    "    #Get image from source\n",
    "    img_dir = \"H:/CS230_Project/CS-230-Hemorrhage/rsna-intracranial-hemorrhage-detection/stage_1_train_images/\" + image_ID + \".dcm\"\n",
    "    ds = pydicom.dcmread(img_dir)\n",
    "    ds_array = ds.pixel_array\n",
    "    \n",
    "    #image_2d = ds_array.astype(float)\n",
    "    #image_2d_scaled = (np.maximum(image_2d,0) / image_2d.max()) * 255.0\n",
    "    \n",
    "    ds_array = cv2.resize(ds_array, dsize=(128,128), interpolation=cv2.INTER_CUBIC)\n",
    "    image_flat = ds_array.reshape((1,ds_array.shape[0]*ds_array.shape[1]))\n",
    "    \n",
    "    #Generate Image\n",
    "    #plt.imshow(ds_array)\n",
    "    #print (np.amin(image_flat))\n",
    "    #print (np.amax(image_flat))\n",
    "\n",
    "    return image_flat\n"
   ]
  },
  {
   "cell_type": "code",
   "execution_count": 281,
   "metadata": {},
   "outputs": [
    {
     "data": {
      "text/plain": [
       "array([[31, 26, 23, ..., 22, 21, 22]], dtype=uint16)"
      ]
     },
     "execution_count": 281,
     "metadata": {},
     "output_type": "execute_result"
    }
   ],
   "source": [
    "#Test of the function to make sure it is working properly\n",
    "open_image(image_ID=\"ID_63eb1e259\")\n"
   ]
  },
  {
   "cell_type": "code",
   "execution_count": 282,
   "metadata": {},
   "outputs": [],
   "source": [
    "#Build Dataset\n",
    "train_size = 10000   #This is the number of pictures we want to have in the training set\n",
    "\n",
    "image_info = []   \n",
    "old_id = \"\"\n",
    "Y = np.empty([train_size,6])              #Initailize Y\n",
    "X = np.empty([train_size,16384])          #Initailize X\n",
    "Image_Names_Sorted = []\n",
    "for i,row in train[:train_size*6].iterrows():\n",
    "    image_ID = row[\"ID\"][:12]\n",
    "    if (i==0):\n",
    "        old_id = row[\"ID\"][:12]\n",
    "    if(image_ID ==old_id):\n",
    "        image_info.append(int(row[\"Label\"]))\n",
    "    else:\n",
    "        j = int((i)/6-1)\n",
    "        Y[j] = image_info\n",
    "        X[j] = open_image(image_ID)\n",
    "        Image_Names_Sorted.append(image_ID) \n",
    "        image_info = []\n",
    "        image_info.append(int(row[\"Label\"]))\n",
    "        old_id = image_ID\n",
    "    if (i==train_size*6-1):\n",
    "        j = int((i+1)/6-1)\n",
    "        Y[j] = image_info\n",
    "        X[j] = open_image(image_ID)\n",
    "        Image_Names_Sorted.append(image_ID)\n",
    "    "
   ]
  },
  {
   "cell_type": "code",
   "execution_count": 283,
   "metadata": {},
   "outputs": [
    {
     "name": "stdout",
     "output_type": "stream",
     "text": [
      "(10000, 16384)\n"
     ]
    }
   ],
   "source": [
    "print (X.shape)"
   ]
  },
  {
   "cell_type": "code",
   "execution_count": 284,
   "metadata": {},
   "outputs": [
    {
     "name": "stdout",
     "output_type": "stream",
     "text": [
      "(10000, 6)\n"
     ]
    }
   ],
   "source": [
    "print (Y.shape)"
   ]
  },
  {
   "cell_type": "code",
   "execution_count": 285,
   "metadata": {},
   "outputs": [
    {
     "name": "stdout",
     "output_type": "stream",
     "text": [
      "10000\n"
     ]
    }
   ],
   "source": [
    "print (len(Image_Names_Sorted))"
   ]
  },
  {
   "cell_type": "code",
   "execution_count": 286,
   "metadata": {},
   "outputs": [],
   "source": [
    "#Normalizing Inputs:\n",
    "def normalize(X_prev):\n",
    "    u = np.mean(X_prev)\n",
    "    var = np.var(X_prev)\n",
    "    X = (X_prev - u)/var\n",
    "    return X"
   ]
  },
  {
   "cell_type": "code",
   "execution_count": 287,
   "metadata": {},
   "outputs": [],
   "source": [
    "X_Test = normalize(X)"
   ]
  },
  {
   "cell_type": "code",
   "execution_count": 288,
   "metadata": {},
   "outputs": [
    {
     "name": "stdout",
     "output_type": "stream",
     "text": [
      "[[-0.00029154 -0.00029403 -0.00029278 ...  0.00017943  0.00028257\n",
      "   0.00032979]\n",
      " [-0.00157893 -0.00157893 -0.00157893 ... -0.00157893 -0.00157893\n",
      "  -0.00157893]\n",
      " [-0.00027663 -0.0002816  -0.00027787 ... -0.00027663 -0.00027911\n",
      "  -0.00028036]\n",
      " ...\n",
      " [-0.00027042 -0.00026917 -0.00027042 ... -0.00018592 -0.0001797\n",
      "  -0.0002058 ]\n",
      " [-0.00027539 -0.00027539 -0.00027539 ... -0.00027663 -0.00027911\n",
      "  -0.00027663]\n",
      " [-0.00027539 -0.00027539 -0.00027539 ... -0.00027663 -0.00027911\n",
      "  -0.00027663]]\n"
     ]
    }
   ],
   "source": [
    "print (X_Test)"
   ]
  },
  {
   "cell_type": "code",
   "execution_count": 289,
   "metadata": {},
   "outputs": [],
   "source": [
    "X = normalize(X)"
   ]
  },
  {
   "cell_type": "code",
   "execution_count": 290,
   "metadata": {},
   "outputs": [],
   "source": [
    "# Splitting the Data into test and train:\n",
    "X_train, X_test, Y_train, Y_test = train_test_split(X, Y, test_size=0.3, random_state=42)"
   ]
  },
  {
   "cell_type": "code",
   "execution_count": 291,
   "metadata": {},
   "outputs": [],
   "source": [
    "X_train = X_train.T\n",
    "X_test = X_test.T\n",
    "Y_train = Y_train.T\n",
    "Y_test = Y_test.T"
   ]
  },
  {
   "cell_type": "markdown",
   "metadata": {},
   "source": [
    "# Linear Regression:"
   ]
  },
  {
   "cell_type": "code",
   "execution_count": 292,
   "metadata": {},
   "outputs": [],
   "source": [
    "# Lets make some functions!\n",
    "def initialize_with_zeros(dim):\n",
    "    w = np.zeros([dim,6]) #w.shape = (m,6)\n",
    "    b = np.zeros([6,1])\n",
    "    \n",
    "    return w, b"
   ]
  },
  {
   "cell_type": "code",
   "execution_count": 303,
   "metadata": {},
   "outputs": [],
   "source": [
    "def propagate(w,b,X,Y):\n",
    "    m = X.shape[1]\n",
    "    #print (w[1][1])\n",
    "    \n",
    "    Z = np.dot(w.T,X)+b\n",
    "    #print (Z)\n",
    "    #print (w.T)\n",
    "    A = 1/(1+np.exp(-Z))\n",
    "    loss = Y*(np.log(A))+(1-Y)*(np.log(1-A))# (Y-A)*(Y-A)\n",
    "    #print (loss)\n",
    "    cost = -np.sum(loss)/m\n",
    "    \n",
    "    dZ = A-Y\n",
    "    #print (dZ)\n",
    "    dw = (1/m)*np.dot(X,dZ.T)\n",
    "    #print (dw)\n",
    "    db = (1/m)*np.sum(dZ,axis = 1, keepdims=True)\n",
    "    #print (db)\n",
    "    \n",
    "    cost = np.squeeze(cost)\n",
    "    \n",
    "    grads = {\"dw\": dw,\n",
    "             \"db\": db}\n",
    "    \n",
    "    return grads, cost"
   ]
  },
  {
   "cell_type": "code",
   "execution_count": 304,
   "metadata": {},
   "outputs": [],
   "source": [
    "def optimize(w, b, X, Y, num_iterations, learning_rate, print_cost = False):\n",
    "    costs = []\n",
    "    \n",
    "    for i in range(num_iterations):\n",
    "        grads, cost = propagate(w, b, X, Y)\n",
    "        #print (w)\n",
    "        #print (b)\n",
    "        # Retrieve derivatives from grads\n",
    "        dw = grads[\"dw\"]\n",
    "        db = grads[\"db\"]\n",
    "        #print (db)\n",
    "        # update rule\n",
    "        w = w - learning_rate*dw\n",
    "        #print (w)\n",
    "        b = b - learning_rate*db\n",
    "        \n",
    "        # Record the costs\n",
    "        if i % 100 == 0:\n",
    "            costs.append(cost)\n",
    "        \n",
    "        # Print the cost every 100 training iterations\n",
    "        if print_cost and i % 100 == 0:\n",
    "            print (\"Cost after iteration %i: %f\" %(i, cost))\n",
    "    \n",
    "    params = {\"w\": w,\n",
    "              \"b\": b}\n",
    "    \n",
    "    grads = {\"dw\": dw,\n",
    "             \"db\": db}\n",
    "    \n",
    "    return params, grads, costs"
   ]
  },
  {
   "cell_type": "code",
   "execution_count": 305,
   "metadata": {},
   "outputs": [],
   "source": [
    "def predict(w, b, X):\n",
    "    m = X.shape[1]\n",
    "    Y_prediction = np.zeros((1,m))\n",
    "    w = w.reshape(X.shape[0], 6)\n",
    "    \n",
    "    # Compute vector \"A\" predicting the probabilities of a cat being present in the picture\n",
    "    Z = np.dot(w.T,X)+b\n",
    "    A = 1/(1+np.exp(-Z))\n",
    "    \n",
    "    for i in range(A.shape[1]):\n",
    "        \n",
    "        # Convert probabilities A[0,i] to actual predictions p[0,i]\n",
    "        if A[0,i] <=.5:\n",
    "            Y_prediction[0,i] = 0\n",
    "        else:\n",
    "            Y_prediction[0,i] = 1\n",
    "    \n",
    "    assert(Y_prediction.shape == (1, m))\n",
    "    \n",
    "    return Y_prediction"
   ]
  },
  {
   "cell_type": "code",
   "execution_count": 308,
   "metadata": {},
   "outputs": [],
   "source": [
    "def model(X_train, Y_train, X_test, Y_test, num_iterations = 2000, learning_rate = 0.0001, print_cost = False):\n",
    "    # initialize parameters with zeros (≈ 1 line of code)\n",
    "    w, b = initialize_with_zeros(X_train.shape[0])\n",
    "\n",
    "    # Gradient descent (≈ 1 line of code)\n",
    "    parameters, grads, costs = optimize(w, b, X_train, Y_train, num_iterations, learning_rate, print_cost)\n",
    "    \n",
    "    # Retrieve parameters w and b from dictionary \"parameters\"\n",
    "    w = parameters[\"w\"]\n",
    "    b = parameters[\"b\"]\n",
    "    print (w)\n",
    "    # Predict test/train set examples (≈ 2 lines of code)\n",
    "    Y_prediction_test = predict(w, b, X_test)\n",
    "    Y_prediction_train = predict(w, b, X_train)\n",
    "    \n",
    "    print (np.sum(Y_prediction_test))\n",
    "\n",
    "    ### END CODE HERE ###\n",
    "\n",
    "    # Print train/test Errors\n",
    "    print(\"train accuracy: {} %\".format(100 - np.mean(np.abs(Y_prediction_train - Y_train)) * 100))\n",
    "    print(\"test accuracy: {} %\".format(100 - np.mean(np.abs(Y_prediction_test - Y_test)) * 100))\n",
    "\n",
    "    \n",
    "    d = {\"costs\": costs,\n",
    "         \"Y_prediction_test\": Y_prediction_test, \n",
    "         \"Y_prediction_train\" : Y_prediction_train, \n",
    "         \"w\" : w, \n",
    "         \"b\" : b,\n",
    "         \"learning_rate\" : learning_rate,\n",
    "         \"num_iterations\": num_iterations}\n",
    "    \n",
    "    return d\n",
    "    "
   ]
  },
  {
   "cell_type": "code",
   "execution_count": 309,
   "metadata": {
    "scrolled": false
   },
   "outputs": [
    {
     "name": "stdout",
     "output_type": "stream",
     "text": [
      "Cost after iteration 0: 4.158883\n",
      "Cost after iteration 100: 1.859401\n",
      "Cost after iteration 200: 1.484245\n",
      "Cost after iteration 300: 1.367451\n",
      "[[0.00367732 0.003114   0.00322875 0.00306713 0.00291482 0.00211825]\n",
      " [0.0036773  0.00311372 0.00322876 0.00306665 0.00291491 0.00211818]\n",
      " [0.0036776  0.0031135  0.00322896 0.00306656 0.00291523 0.00211786]\n",
      " ...\n",
      " [0.00357183 0.00301114 0.00312797 0.00299646 0.00283866 0.00205849]\n",
      " [0.00357425 0.00301554 0.00312873 0.00299367 0.00283492 0.00205082]\n",
      " [0.00357343 0.00301611 0.00312408 0.00298315 0.00282619 0.00203514]]\n",
      "0.0\n",
      "train accuracy: 94.05952380952381 %\n",
      "test accuracy: 94.2611111111111 %\n"
     ]
    }
   ],
   "source": [
    "d = model(X_train, Y_train, X_test, Y_test, num_iterations = 400, learning_rate = 0.05, print_cost = True)    "
   ]
  },
  {
   "cell_type": "code",
   "execution_count": 298,
   "metadata": {},
   "outputs": [
    {
     "data": {
      "image/png": "[encoded data removed]",
      "text/plain": [
       "<Figure size 432x288 with 1 Axes>"
      ]
     },
     "metadata": {
      "needs_background": "light"
     },
     "output_type": "display_data"
    }
   ],
   "source": [
    "# Plot learning curve (with costs)\n",
    "costs = np.squeeze(d['costs'])\n",
    "plt.plot(costs)\n",
    "plt.ylabel('cost')\n",
    "plt.xlabel('iterations (per hundreds)')\n",
    "plt.title(\"Learning rate =\" + str(d[\"learning_rate\"]))\n",
    "plt.show()"
   ]
  },
  {
   "cell_type": "code",
   "execution_count": null,
   "metadata": {},
   "outputs": [],
   "source": []
  }
 ],
 "metadata": {
  "kernelspec": {
   "display_name": "Python 3",
   "language": "python",
   "name": "python3"
  },
  "language_info": {
   "codemirror_mode": {
    "name": "ipython",
    "version": 3
   },
   "file_extension": ".py",
   "mimetype": "text/x-python",
   "name": "python",
   "nbconvert_exporter": "python",
   "pygments_lexer": "ipython3",
   "version": "3.7.5"
  }
 },
 "nbformat": 4,
 "nbformat_minor": 2
}
